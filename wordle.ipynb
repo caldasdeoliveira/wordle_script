{
 "cells": [
  {
   "cell_type": "code",
   "execution_count": 1,
   "id": "e3163933",
   "metadata": {},
   "outputs": [
    {
     "name": "stdout",
     "output_type": "stream",
     "text": [
      "5LetterWords.txt main.py          wordle.ipynb\r\n",
      "\u001b[1m\u001b[36m__pycache__\u001b[m\u001b[m      test.py\r\n"
     ]
    }
   ],
   "source": [
    "!ls"
   ]
  },
  {
   "cell_type": "markdown",
   "id": "15f582d0",
   "metadata": {},
   "source": [
    "# Main function"
   ]
  },
  {
   "cell_type": "code",
   "execution_count": 2,
   "id": "85694fba",
   "metadata": {
    "scrolled": true
   },
   "outputs": [
    {
     "name": "stdout",
     "output_type": "stream",
     "text": [
      "Overwriting main.py\n"
     ]
    }
   ],
   "source": [
    "%%writefile main.py\n",
    "import os\n",
    "import pandas as pd\n",
    "from typing import List\n",
    "\n",
    "class Agent:\n",
    "    def __init__(self, filename: str = \"5LetterWords.txt\",):\n",
    "        self.filename = filename\n",
    "        self.word_bag = self.initialize_words(self.filename)\n",
    "        self.reset()\n",
    "        \n",
    "    def reset(self,):\n",
    "        self.words = self.word_bag\n",
    "        \n",
    "    def initialize_words(self, filename: str,):\n",
    "        assert os.path.exists(filename), f\"File {filename} does not exist\"\n",
    "        \n",
    "        with open(filename) as file:\n",
    "            lines = {line.rstrip() for line in file}\n",
    "        return lines\n",
    "    \n",
    "    def manual_game(self,):\n",
    "        self.reset()\n",
    "        for i in range(6):\n",
    "            guess = self.get_guess()\n",
    "            print(guess)\n",
    "            result = input(\"What was the result? (0: wrong, 1: correct letter wrong place, 2: correct letter correct place)\")\n",
    "            result = [int(r) for r in result]\n",
    "            if result == [2,2,2,2,2] or not result:\n",
    "                print(\"Congrats!!\")\n",
    "                self.reset()\n",
    "                return\n",
    "            self.handle_result(guess, result)\n",
    "        print(\"Sorry I failed you master!\")\n",
    "        self.reset()\n",
    "        \n",
    "    def handle_result(self, guess: str, result: List[int],):\n",
    "        assert len(result) == 5, \"Results must have length 5\"\n",
    "        assert len(guess) == 5, \"Guess must have length 5\"\n",
    "        assert set(result) <= {0,1,2}, \"Invalid values in result\"\n",
    "        \n",
    "        for i,r in enumerate(result):\n",
    "            if r == 0:\n",
    "               self.remove_words_with_letter(letter = guess[i])\n",
    "            elif r == 1:\n",
    "                self.remove_words_correct_letter_in_wrong_spot(letter = guess[i], loc=i)\n",
    "            elif r == 2:\n",
    "                self.remove_words_correct_letter_in_correct_spot(letter = guess[i], loc=i)\n",
    "            else:\n",
    "                raise  ValueError(\"Result had unknown value that eluded the assert\")\n",
    "    \n",
    "    def remove_word_from_words(self, word: str,): #might be unnecessary\n",
    "        self.words.remove(word)\n",
    "    \n",
    "    def remove_words_with_letter(self, letter: str,):\n",
    "        self.words = {w for w in self.words if letter not in w}\n",
    "        #self.alphabet.remove(letter) #maybe remove\n",
    "    \n",
    "    def remove_words_correct_letter_in_wrong_spot(self, letter: str, loc: int,):\n",
    "        \"\"\"\n",
    "        Needs renaming for correct letters in wrong spot\n",
    "        \"\"\"\n",
    "        assert loc >= 0 and loc <= 4, f\"Letter location must be between 0 and 4, passed {loc}\"\n",
    "        self.words = {w for w in self.words if letter != w[loc] and letter in w}\n",
    "        \n",
    "    def remove_words_correct_letter_in_correct_spot(self, letter: str, loc: int,):\n",
    "        \"\"\"\n",
    "        Needs renaming for correct letters in correct spot\n",
    "        \"\"\"\n",
    "        assert loc >= 0 and loc <= 4, f\"Letter location must be between 0 and 4, passed {loc}\"\n",
    "        self.words = {w for w in self.words if letter == w[loc]}\n",
    "    \n",
    "    def get_guess(self,):  \n",
    "        assert self.words, \"Word list is empty\"\n",
    "        \n",
    "        df = pd.DataFrame([list(l) for l in self.words])\n",
    "        scores = {}\n",
    "        for c in df.columns:\n",
    "            scores[c] = df[c].value_counts()\n",
    "        scores_df = pd.DataFrame(scores)\n",
    "        \n",
    "        word_scores = {w: 0 for w in self.words}\n",
    "        for word in word_scores:\n",
    "            seen_letters = []\n",
    "            for i,w in enumerate(word):\n",
    "                if w not in seen_letters:\n",
    "                    word_scores[word] += scores_df.loc[w,:].sum()\n",
    "                    seen_letters.append(w) \n",
    "                word_scores[word] += scores_df.loc[w,i]*0.5\n",
    "        return max(word_scores, key=word_scores.get)\n",
    "    \n",
    "if __name__ == \"__main__\":\n",
    "    agent = Agent()\n",
    "    agent.manual_game()"
   ]
  },
  {
   "cell_type": "code",
   "execution_count": 3,
   "id": "adf1fc54",
   "metadata": {},
   "outputs": [],
   "source": [
    "from main import Agent"
   ]
  },
  {
   "cell_type": "code",
   "execution_count": 4,
   "id": "18a578bf",
   "metadata": {},
   "outputs": [],
   "source": [
    "a = Agent()"
   ]
  },
  {
   "cell_type": "code",
   "execution_count": 5,
   "id": "b50ab0f8",
   "metadata": {},
   "outputs": [],
   "source": [
    "#a.manual_game()"
   ]
  },
  {
   "cell_type": "markdown",
   "id": "c5b688d5",
   "metadata": {},
   "source": [
    "# Testing"
   ]
  },
  {
   "cell_type": "code",
   "execution_count": 6,
   "id": "b863bd4d",
   "metadata": {},
   "outputs": [
    {
     "name": "stdout",
     "output_type": "stream",
     "text": [
      "Overwriting test.py\n"
     ]
    }
   ],
   "source": [
    "%%writefile test.py\n",
    "import os\n",
    "from typing import Type\n",
    "from main import Agent\n",
    "import random\n",
    "\n",
    "from ipywidgets import IntProgress\n",
    "from IPython.display import display\n",
    "\n",
    "class Tester:\n",
    "    def __init__(self, agent: Type[Agent], filename: str = \"5LetterWords.txt\"):\n",
    "        self.filename = filename\n",
    "        self.agent = agent\n",
    "        self.reset()\n",
    "        \n",
    "    def reset(self,):\n",
    "        self.words = self.initialize_words(self.filename)\n",
    "    \n",
    "    def initialize_words(self, filename: str,):\n",
    "        assert os.path.exists(filename), f\"File {filename} does not exist\"\n",
    "        \n",
    "        with open(filename) as file:\n",
    "            lines = {line.rstrip() for line in file}\n",
    "        return lines\n",
    "    \n",
    "    def eval_guess(self, guess: str, word: str):\n",
    "        assert len(guess) == len(word), f\"Guess and target word must have same length.\"\\\n",
    "                                        f\" {guess} is not the same length as {word}\"\n",
    "        result = []\n",
    "        for i,g in enumerate(guess):\n",
    "            if word[i] == g:\n",
    "                result.append(2)\n",
    "            elif g in word:\n",
    "                result.append(1)\n",
    "            else:\n",
    "                result.append(0)\n",
    "\n",
    "        return result\n",
    "    \n",
    "    def single_test(self, word: str = None):\n",
    "        if not word:\n",
    "            word = random.choice(tuple(self.words))\n",
    "        else:\n",
    "            assert len(word) == 5, f\"Test words must have lenght 5. {word} has length {len(word)}\"\n",
    "            assert set([word]) <= self.words, f\"Test word not in word list consider adding.\" \\\n",
    "                                            \" Agent won't guess words outside the word list\"\n",
    "        # test if agent has correct method\n",
    "        history = []\n",
    "        self.agent.reset()\n",
    "        success = False\n",
    "        for t in range(6):\n",
    "            guess = self.agent.get_guess()\n",
    "            result = self.eval_guess(guess, word)\n",
    "            self.agent.handle_result(guess, result)\n",
    "            history.append({guess:result})\n",
    "            if result == [2,2,2,2,2]:\n",
    "                success = True\n",
    "                break\n",
    "        return success, word, history\n",
    "    \n",
    "    def full_test(self,):\n",
    "        test_words = list(self.words)\n",
    "        random.shuffle(test_words)\n",
    "        \n",
    "        total_score = 0\n",
    "        total_history = {}\n",
    "        total_fails = 0\n",
    "        \n",
    "        f = IntProgress(min=0, max=len(test_words)) # instantiate the bar\n",
    "        display(f)\n",
    "        \n",
    "        for test_word in test_words:\n",
    "            success, _, history = self.single_test(word = test_word)\n",
    "            total_score += len(history)\n",
    "            total_fails += not success\n",
    "            total_history[test_word] = history\n",
    "            print(success)\n",
    "            f.value += 1\n",
    "        \n",
    "        print(f\"The agent got a total score of {total_score}/{6*len(test_words)}\")\n",
    "        print(f\"That's an average score of {total_score/len(test_words)}/6\")\n",
    "        print(f\"The agent failed {total_fails} times\")\n",
    "        return total_score, total_history"
   ]
  },
  {
   "cell_type": "code",
   "execution_count": 7,
   "id": "7f5d31da",
   "metadata": {},
   "outputs": [],
   "source": [
    "from test import Tester"
   ]
  },
  {
   "cell_type": "code",
   "execution_count": 8,
   "id": "c8f15b7d",
   "metadata": {},
   "outputs": [],
   "source": [
    "a = Agent()\n",
    "t = Tester(a)"
   ]
  },
  {
   "cell_type": "code",
   "execution_count": 9,
   "id": "7ab74dbf",
   "metadata": {},
   "outputs": [
    {
     "data": {
      "text/plain": [
       "(True,\n",
       " 'stink',\n",
       " [{'tares': [1, 0, 0, 0, 1]},\n",
       "  {'shout': [2, 0, 0, 0, 1]},\n",
       "  {'styli': [2, 2, 0, 0, 1]},\n",
       "  {'stink': [2, 2, 2, 2, 2]}])"
      ]
     },
     "execution_count": 9,
     "metadata": {},
     "output_type": "execute_result"
    }
   ],
   "source": [
    "t.single_test()"
   ]
  },
  {
   "cell_type": "code",
   "execution_count": null,
   "id": "5575e7c6",
   "metadata": {},
   "outputs": [
    {
     "data": {
      "application/vnd.jupyter.widget-view+json": {
       "model_id": "16c1a1dbf32d448499dbee4343378789",
       "version_major": 2,
       "version_minor": 0
      },
      "text/plain": [
       "IntProgress(value=0, max=5756)"
      ]
     },
     "metadata": {},
     "output_type": "display_data"
    },
    {
     "name": "stdout",
     "output_type": "stream",
     "text": [
      "True\n",
      "True\n",
      "True\n",
      "True\n",
      "True\n",
      "True\n",
      "True\n",
      "True\n",
      "True\n",
      "True\n",
      "True\n",
      "True\n",
      "True\n",
      "True\n",
      "True\n",
      "True\n",
      "True\n",
      "True\n",
      "True\n",
      "True\n",
      "True\n",
      "True\n",
      "True\n",
      "True\n",
      "True\n",
      "True\n",
      "True\n",
      "True\n",
      "True\n",
      "True\n",
      "True\n",
      "True\n",
      "True\n",
      "True\n",
      "True\n",
      "True\n",
      "True\n",
      "True\n",
      "False\n",
      "True\n",
      "True\n",
      "True\n",
      "True\n",
      "True\n",
      "True\n",
      "True\n",
      "True\n",
      "True\n",
      "True\n",
      "True\n",
      "True\n",
      "True\n",
      "True\n",
      "True\n",
      "True\n",
      "True\n",
      "True\n",
      "True\n",
      "True\n",
      "True\n",
      "True\n",
      "True\n",
      "True\n",
      "True\n",
      "True\n",
      "True\n",
      "True\n",
      "True\n",
      "True\n",
      "True\n",
      "False\n",
      "True\n",
      "True\n",
      "False\n",
      "True\n",
      "True\n",
      "True\n",
      "False\n",
      "True\n",
      "True\n",
      "True\n",
      "True\n",
      "True\n",
      "True\n",
      "True\n",
      "True\n",
      "True\n",
      "True\n",
      "True\n",
      "True\n",
      "True\n",
      "True\n",
      "False\n",
      "True\n",
      "True\n",
      "True\n",
      "True\n",
      "True\n",
      "True\n",
      "True\n",
      "True\n",
      "True\n",
      "True\n",
      "True\n",
      "True\n",
      "True\n",
      "True\n",
      "True\n",
      "True\n",
      "True\n",
      "True\n",
      "True\n",
      "True\n",
      "True\n",
      "True\n",
      "True\n",
      "True\n",
      "True\n",
      "True\n",
      "True\n",
      "True\n",
      "True\n",
      "True\n",
      "True\n",
      "True\n",
      "False\n",
      "True\n",
      "True\n",
      "True\n",
      "True\n",
      "True\n",
      "True\n",
      "True\n",
      "True\n",
      "False\n",
      "True\n",
      "True\n",
      "True\n",
      "True\n",
      "True\n",
      "True\n",
      "True\n",
      "True\n",
      "True\n",
      "True\n"
     ]
    }
   ],
   "source": [
    "t.full_test()"
   ]
  },
  {
   "cell_type": "markdown",
   "id": "30b05422",
   "metadata": {},
   "source": [
    "need to improve words like hates\n",
    "\n",
    "need to optimize code"
   ]
  },
  {
   "cell_type": "code",
   "execution_count": null,
   "id": "1f205fc5",
   "metadata": {},
   "outputs": [],
   "source": []
  }
 ],
 "metadata": {
  "kernelspec": {
   "display_name": "base",
   "language": "python",
   "name": "base"
  },
  "language_info": {
   "codemirror_mode": {
    "name": "ipython",
    "version": 3
   },
   "file_extension": ".py",
   "mimetype": "text/x-python",
   "name": "python",
   "nbconvert_exporter": "python",
   "pygments_lexer": "ipython3",
   "version": "3.8.5"
  }
 },
 "nbformat": 4,
 "nbformat_minor": 5
}
